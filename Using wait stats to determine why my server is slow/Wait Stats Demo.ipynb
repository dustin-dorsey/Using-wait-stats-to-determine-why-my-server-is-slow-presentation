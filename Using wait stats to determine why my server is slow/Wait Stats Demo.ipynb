{
    "metadata": {
        "kernelspec": {
            "name": "SQL",
            "display_name": "SQL",
            "language": "sql"
        },
        "language_info": {
            "name": "sql",
            "version": ""
        }
    },
    "nbformat_minor": 2,
    "nbformat": 4,
    "cells": [
        {
            "cell_type": "markdown",
            "source": [
                "**Using Wait Stats to Determine Why My Server is Slow - DEMOS**"
            ],
            "metadata": {
                "azdata_cell_guid": "c101ec99-2614-41cd-a7b9-b34aad20d17a"
            }
        },
        {
            "cell_type": "markdown",
            "source": [
                "**DMV that stores wait stats** -- sys.dm_os_wait_stats \r\n",
                "\r\n",
                "* wait_type - Type of Wait being encountered\r\n",
                "* waiting_tasks_count - total number of tasks that experienced this wait\r\n",
                "* wait_time_ms - Total wait time in ms \r\n",
                "* max_wait_time_ms - The max wait time for a task in ms cpu\r\n",
                "* signal_wait_time_ms - The amount of time a request spent waiting in the Runnable state waiting on CPU to process it"
            ],
            "metadata": {
                "azdata_cell_guid": "c31e4410-2606-4a9c-8328-d294b4c61741"
            }
        },
        {
            "cell_type": "code",
            "source": [
                "Select * from sys.dm_os_wait_stats\r\n",
                "--WHERE waiting_tasks_count > 0\r\n",
                "order by wait_time_ms desc"
            ],
            "metadata": {
                "azdata_cell_guid": "53ff8a89-c383-4f50-9bf3-508ee6c0da3f"
            },
            "outputs": [],
            "execution_count": 32
        },
        {
            "cell_type": "markdown",
            "source": [
                "**Check to see active queries**"
            ],
            "metadata": {
                "azdata_cell_guid": "b652d336-5841-4f16-9638-8a789c43903e"
            }
        },
        {
            "cell_type": "code",
            "source": [
                "Exec master.dbo.sp_WhoIsActive"
            ],
            "metadata": {
                "azdata_cell_guid": "8b951571-1847-4214-bc38-0c060ccbf576"
            },
            "outputs": [],
            "execution_count": 33
        },
        {
            "cell_type": "code",
            "source": [
                "Exec sp_BlitzWho"
            ],
            "metadata": {
                "azdata_cell_guid": "c8e80e5b-3c00-42e3-9b7e-ede02cfa6407"
            },
            "outputs": [],
            "execution_count": 34
        },
        {
            "cell_type": "markdown",
            "source": [
                "**Importance of creating baselines**"
            ],
            "metadata": {
                "azdata_cell_guid": "ace8a71e-4960-4e83-b2ee-dd779787d98d"
            }
        },
        {
            "cell_type": "markdown",
            "source": [
                "**Script to clear wait stats**"
            ],
            "metadata": {
                "azdata_cell_guid": "a6b270b1-503d-4029-b131-a81fd4a1826e"
            }
        },
        {
            "cell_type": "code",
            "source": [
                "DBCC SQLPERF (N'sys.dm_os_wait_stats', CLEAR);"
            ],
            "metadata": {
                "azdata_cell_guid": "2c521a30-8c58-4639-be2b-0bf6d0736c27"
            },
            "outputs": [],
            "execution_count": 35
        },
        {
            "cell_type": "markdown",
            "source": [
                "**Wait Stat script**\r\n",
                "\r\n",
                "https://www.sqlskills.com/blogs/paul/wait-statistics-or-please-tell-me-where-it-hurts/"
            ],
            "metadata": {
                "azdata_cell_guid": "73649db4-6f93-4c88-a8f3-18d5bc3698aa"
            }
        },
        {
            "cell_type": "code",
            "source": [
                "WITH [Waits] AS\n",
                "    (SELECT\n",
                "        [wait_type],\n",
                "        [wait_time_ms] / 1000.0 AS [WaitS],\n",
                "        ([wait_time_ms] - [signal_wait_time_ms]) / 1000.0 AS [ResourceS],\n",
                "        [signal_wait_time_ms] / 1000.0 AS [SignalS],\n",
                "        [waiting_tasks_count] AS [WaitCount],\n",
                "        100.0 * [wait_time_ms] / SUM ([wait_time_ms]) OVER() AS [Percentage],\n",
                "        ROW_NUMBER() OVER(ORDER BY [wait_time_ms] DESC) AS [RowNum]\n",
                "    FROM sys.dm_os_wait_stats\n",
                "    WHERE [wait_type] NOT IN (\n",
                "        -- These wait types are almost 100% never a problem and so they are\n",
                "        -- filtered out to avoid them skewing the results. Click on the URL\n",
                "        -- for more information.\n",
                "        N'BROKER_EVENTHANDLER', -- https://www.sqlskills.com/help/waits/BROKER_EVENTHANDLER\n",
                "        N'BROKER_RECEIVE_WAITFOR', -- https://www.sqlskills.com/help/waits/BROKER_RECEIVE_WAITFOR\n",
                "        N'BROKER_TASK_STOP', -- https://www.sqlskills.com/help/waits/BROKER_TASK_STOP\n",
                "        N'BROKER_TO_FLUSH', -- https://www.sqlskills.com/help/waits/BROKER_TO_FLUSH\n",
                "        N'BROKER_TRANSMITTER', -- https://www.sqlskills.com/help/waits/BROKER_TRANSMITTER\n",
                "        N'CHECKPOINT_QUEUE', -- https://www.sqlskills.com/help/waits/CHECKPOINT_QUEUE\n",
                "        N'CHKPT', -- https://www.sqlskills.com/help/waits/CHKPT\n",
                "        N'CLR_AUTO_EVENT', -- https://www.sqlskills.com/help/waits/CLR_AUTO_EVENT\n",
                "        N'CLR_MANUAL_EVENT', -- https://www.sqlskills.com/help/waits/CLR_MANUAL_EVENT\n",
                "        N'CLR_SEMAPHORE', -- https://www.sqlskills.com/help/waits/CLR_SEMAPHORE\n",
                "        N'CXCONSUMER', -- https://www.sqlskills.com/help/waits/CXCONSUMER\n",
                " \n",
                "        -- Maybe comment these four out if you have mirroring issues\n",
                "        N'DBMIRROR_DBM_EVENT', -- https://www.sqlskills.com/help/waits/DBMIRROR_DBM_EVENT\n",
                "        N'DBMIRROR_EVENTS_QUEUE', -- https://www.sqlskills.com/help/waits/DBMIRROR_EVENTS_QUEUE\n",
                "        N'DBMIRROR_WORKER_QUEUE', -- https://www.sqlskills.com/help/waits/DBMIRROR_WORKER_QUEUE\n",
                "        N'DBMIRRORING_CMD', -- https://www.sqlskills.com/help/waits/DBMIRRORING_CMD\n",
                " \n",
                "        N'DIRTY_PAGE_POLL', -- https://www.sqlskills.com/help/waits/DIRTY_PAGE_POLL\n",
                "        N'DISPATCHER_QUEUE_SEMAPHORE', -- https://www.sqlskills.com/help/waits/DISPATCHER_QUEUE_SEMAPHORE\n",
                "        N'EXECSYNC', -- https://www.sqlskills.com/help/waits/EXECSYNC\n",
                "        N'FSAGENT', -- https://www.sqlskills.com/help/waits/FSAGENT\n",
                "        N'FT_IFTS_SCHEDULER_IDLE_WAIT', -- https://www.sqlskills.com/help/waits/FT_IFTS_SCHEDULER_IDLE_WAIT\n",
                "        N'FT_IFTSHC_MUTEX', -- https://www.sqlskills.com/help/waits/FT_IFTSHC_MUTEX\n",
                " \n",
                "        -- Maybe comment these six out if you have AG issues\n",
                "        N'HADR_CLUSAPI_CALL', -- https://www.sqlskills.com/help/waits/HADR_CLUSAPI_CALL\n",
                "        N'HADR_FILESTREAM_IOMGR_IOCOMPLETION', -- https://www.sqlskills.com/help/waits/HADR_FILESTREAM_IOMGR_IOCOMPLETION\n",
                "        N'HADR_LOGCAPTURE_WAIT', -- https://www.sqlskills.com/help/waits/HADR_LOGCAPTURE_WAIT\n",
                "        N'HADR_NOTIFICATION_DEQUEUE', -- https://www.sqlskills.com/help/waits/HADR_NOTIFICATION_DEQUEUE\n",
                "        N'HADR_TIMER_TASK', -- https://www.sqlskills.com/help/waits/HADR_TIMER_TASK\n",
                "        N'HADR_WORK_QUEUE', -- https://www.sqlskills.com/help/waits/HADR_WORK_QUEUE\n",
                " \n",
                "        N'KSOURCE_WAKEUP', -- https://www.sqlskills.com/help/waits/KSOURCE_WAKEUP\n",
                "        N'LAZYWRITER_SLEEP', -- https://www.sqlskills.com/help/waits/LAZYWRITER_SLEEP\n",
                "        N'LOGMGR_QUEUE', -- https://www.sqlskills.com/help/waits/LOGMGR_QUEUE\n",
                "        N'MEMORY_ALLOCATION_EXT', -- https://www.sqlskills.com/help/waits/MEMORY_ALLOCATION_EXT\n",
                "        N'ONDEMAND_TASK_QUEUE', -- https://www.sqlskills.com/help/waits/ONDEMAND_TASK_QUEUE\n",
                "        N'PARALLEL_REDO_DRAIN_WORKER', -- https://www.sqlskills.com/help/waits/PARALLEL_REDO_DRAIN_WORKER\n",
                "        N'PARALLEL_REDO_LOG_CACHE', -- https://www.sqlskills.com/help/waits/PARALLEL_REDO_LOG_CACHE\n",
                "        N'PARALLEL_REDO_TRAN_LIST', -- https://www.sqlskills.com/help/waits/PARALLEL_REDO_TRAN_LIST\n",
                "        N'PARALLEL_REDO_WORKER_SYNC', -- https://www.sqlskills.com/help/waits/PARALLEL_REDO_WORKER_SYNC\n",
                "        N'PARALLEL_REDO_WORKER_WAIT_WORK', -- https://www.sqlskills.com/help/waits/PARALLEL_REDO_WORKER_WAIT_WORK\n",
                "        N'PREEMPTIVE_OS_FLUSHFILEBUFFERS', -- https://www.sqlskills.com/help/waits/PREEMPTIVE_OS_FLUSHFILEBUFFERS \n",
                "        N'PREEMPTIVE_XE_GETTARGETSTATE', -- https://www.sqlskills.com/help/waits/PREEMPTIVE_XE_GETTARGETSTATE\n",
                "        N'PWAIT_ALL_COMPONENTS_INITIALIZED', -- https://www.sqlskills.com/help/waits/PWAIT_ALL_COMPONENTS_INITIALIZED\n",
                "        N'PWAIT_DIRECTLOGCONSUMER_GETNEXT', -- https://www.sqlskills.com/help/waits/PWAIT_DIRECTLOGCONSUMER_GETNEXT\n",
                "        N'QDS_PERSIST_TASK_MAIN_LOOP_SLEEP', -- https://www.sqlskills.com/help/waits/QDS_PERSIST_TASK_MAIN_LOOP_SLEEP\n",
                "        N'QDS_ASYNC_QUEUE', -- https://www.sqlskills.com/help/waits/QDS_ASYNC_QUEUE\n",
                "        N'QDS_CLEANUP_STALE_QUERIES_TASK_MAIN_LOOP_SLEEP',\n",
                "            -- https://www.sqlskills.com/help/waits/QDS_CLEANUP_STALE_QUERIES_TASK_MAIN_LOOP_SLEEP\n",
                "        N'QDS_SHUTDOWN_QUEUE', -- https://www.sqlskills.com/help/waits/QDS_SHUTDOWN_QUEUE\n",
                "        N'REDO_THREAD_PENDING_WORK', -- https://www.sqlskills.com/help/waits/REDO_THREAD_PENDING_WORK\n",
                "        N'REQUEST_FOR_DEADLOCK_SEARCH', -- https://www.sqlskills.com/help/waits/REQUEST_FOR_DEADLOCK_SEARCH\n",
                "        N'RESOURCE_QUEUE', -- https://www.sqlskills.com/help/waits/RESOURCE_QUEUE\n",
                "        N'SERVER_IDLE_CHECK', -- https://www.sqlskills.com/help/waits/SERVER_IDLE_CHECK\n",
                "        N'SLEEP_BPOOL_FLUSH', -- https://www.sqlskills.com/help/waits/SLEEP_BPOOL_FLUSH\n",
                "        N'SLEEP_DBSTARTUP', -- https://www.sqlskills.com/help/waits/SLEEP_DBSTARTUP\n",
                "        N'SLEEP_DCOMSTARTUP', -- https://www.sqlskills.com/help/waits/SLEEP_DCOMSTARTUP\n",
                "        N'SLEEP_MASTERDBREADY', -- https://www.sqlskills.com/help/waits/SLEEP_MASTERDBREADY\n",
                "        N'SLEEP_MASTERMDREADY', -- https://www.sqlskills.com/help/waits/SLEEP_MASTERMDREADY\n",
                "        N'SLEEP_MASTERUPGRADED', -- https://www.sqlskills.com/help/waits/SLEEP_MASTERUPGRADED\n",
                "        N'SLEEP_MSDBSTARTUP', -- https://www.sqlskills.com/help/waits/SLEEP_MSDBSTARTUP\n",
                "        N'SLEEP_SYSTEMTASK', -- https://www.sqlskills.com/help/waits/SLEEP_SYSTEMTASK\n",
                "        N'SLEEP_TASK', -- https://www.sqlskills.com/help/waits/SLEEP_TASK\n",
                "        N'SLEEP_TEMPDBSTARTUP', -- https://www.sqlskills.com/help/waits/SLEEP_TEMPDBSTARTUP\n",
                "        N'SNI_HTTP_ACCEPT', -- https://www.sqlskills.com/help/waits/SNI_HTTP_ACCEPT\n",
                "        N'SOS_WORK_DISPATCHER', -- https://www.sqlskills.com/help/waits/SOS_WORK_DISPATCHER\n",
                "        N'SP_SERVER_DIAGNOSTICS_SLEEP', -- https://www.sqlskills.com/help/waits/SP_SERVER_DIAGNOSTICS_SLEEP\n",
                "        N'SQLTRACE_BUFFER_FLUSH', -- https://www.sqlskills.com/help/waits/SQLTRACE_BUFFER_FLUSH\n",
                "        N'SQLTRACE_INCREMENTAL_FLUSH_SLEEP', -- https://www.sqlskills.com/help/waits/SQLTRACE_INCREMENTAL_FLUSH_SLEEP\n",
                "        N'SQLTRACE_WAIT_ENTRIES', -- https://www.sqlskills.com/help/waits/SQLTRACE_WAIT_ENTRIES\n",
                "        N'VDI_CLIENT_OTHER', -- https://www.sqlskills.com/help/waits/VDI_CLIENT_OTHER\n",
                "        N'WAIT_FOR_RESULTS', -- https://www.sqlskills.com/help/waits/WAIT_FOR_RESULTS\n",
                "        N'WAITFOR', -- https://www.sqlskills.com/help/waits/WAITFOR\n",
                "        N'WAITFOR_TASKSHUTDOWN', -- https://www.sqlskills.com/help/waits/WAITFOR_TASKSHUTDOWN\n",
                "        N'WAIT_XTP_RECOVERY', -- https://www.sqlskills.com/help/waits/WAIT_XTP_RECOVERY\n",
                "        N'WAIT_XTP_HOST_WAIT', -- https://www.sqlskills.com/help/waits/WAIT_XTP_HOST_WAIT\n",
                "        N'WAIT_XTP_OFFLINE_CKPT_NEW_LOG', -- https://www.sqlskills.com/help/waits/WAIT_XTP_OFFLINE_CKPT_NEW_LOG\n",
                "        N'WAIT_XTP_CKPT_CLOSE', -- https://www.sqlskills.com/help/waits/WAIT_XTP_CKPT_CLOSE\n",
                "        N'XE_DISPATCHER_JOIN', -- https://www.sqlskills.com/help/waits/XE_DISPATCHER_JOIN\n",
                "        N'XE_DISPATCHER_WAIT', -- https://www.sqlskills.com/help/waits/XE_DISPATCHER_WAIT\n",
                "        N'XE_TIMER_EVENT' -- https://www.sqlskills.com/help/waits/XE_TIMER_EVENT\n",
                "        )\n",
                "    AND [waiting_tasks_count] > 0\n",
                "    )\n",
                "SELECT\n",
                "    MAX ([W1].[wait_type]) AS [WaitType],\n",
                "    CAST (MAX ([W1].[WaitS]) AS DECIMAL (16,2)) AS [Wait_S],\n",
                "    CAST (MAX ([W1].[ResourceS]) AS DECIMAL (16,2)) AS [Resource_S],\n",
                "    CAST (MAX ([W1].[SignalS]) AS DECIMAL (16,2)) AS [Signal_S],\n",
                "    MAX ([W1].[WaitCount]) AS [WaitCount],\n",
                "    CAST (MAX ([W1].[Percentage]) AS DECIMAL (5,2)) AS [Percentage],\n",
                "    CAST ((MAX ([W1].[WaitS]) / MAX ([W1].[WaitCount])) AS DECIMAL (16,4)) AS [AvgWait_S],\n",
                "    CAST ((MAX ([W1].[ResourceS]) / MAX ([W1].[WaitCount])) AS DECIMAL (16,4)) AS [AvgRes_S],\n",
                "    CAST ((MAX ([W1].[SignalS]) / MAX ([W1].[WaitCount])) AS DECIMAL (16,4)) AS [AvgSig_S],\n",
                "    CAST ('https://www.sqlskills.com/help/waits/' + MAX ([W1].[wait_type]) as XML) AS [Help/Info URL]\n",
                "FROM [Waits] AS [W1]\n",
                "INNER JOIN [Waits] AS [W2] ON [W2].[RowNum] <= [W1].[RowNum]\n",
                "GROUP BY [W1].[RowNum]\n",
                "HAVING SUM ([W2].[Percentage]) - MAX( [W1].[Percentage] ) < 95; -- percentage threshold"
            ],
            "metadata": {
                "azdata_cell_guid": "8e895025-d89c-4d20-ab40-862ccef825c5"
            },
            "outputs": [],
            "execution_count": 36
        },
        {
            "cell_type": "markdown",
            "source": [
                "https://app.spotlightcloud.io/public/waitopedia"
            ],
            "metadata": {
                "azdata_cell_guid": "ef7d29b8-6cec-4127-b210-795a8f8b6628"
            }
        }
    ]
}