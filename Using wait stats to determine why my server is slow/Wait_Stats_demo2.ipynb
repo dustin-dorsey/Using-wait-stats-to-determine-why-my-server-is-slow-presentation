{
    "metadata": {
        "kernelspec": {
            "name": "SQL",
            "display_name": "SQL",
            "language": "sql"
        },
        "language_info": {
            "name": "sql",
            "version": ""
        }
    },
    "nbformat_minor": 2,
    "nbformat": 4,
    "cells": [
        {
            "cell_type": "markdown",
            "source": [
                "**Current Wait Stats** - **(DO NOT CLEAR RESULTS)**"
            ],
            "metadata": {
                "azdata_cell_guid": "9b4cb8c4-8526-4b26-b8be-591ef41dd7f5"
            }
        },
        {
            "cell_type": "code",
            "source": [
                "SELECT sqlserver_start_time FROM sys.dm_os_sys_info"
            ],
            "metadata": {
                "azdata_cell_guid": "8f5a4f64-b736-4c05-a57c-9ea6eed23f6a"
            },
            "outputs": [
                {
                    "output_type": "display_data",
                    "data": {
                        "text/html": "(1 row affected)"
                    },
                    "metadata": {}
                },
                {
                    "output_type": "display_data",
                    "data": {
                        "text/html": "Total execution time: 00:00:00.009"
                    },
                    "metadata": {}
                },
                {
                    "output_type": "execute_result",
                    "metadata": {},
                    "execution_count": 32,
                    "data": {
                        "application/vnd.dataresource+json": {
                            "schema": {
                                "fields": [
                                    {
                                        "name": "sqlserver_start_time"
                                    }
                                ]
                            },
                            "data": [
                                {
                                    "0": "2019-09-15 15:28:45.017"
                                }
                            ]
                        },
                        "text/html": "<table><tr><th>sqlserver_start_time</th></tr><tr><td>2019-09-15 15:28:45.017</td></tr></table>"
                    }
                }
            ],
            "execution_count": 32
        },
        {
            "cell_type": "code",
            "source": [
                "WITH [Waits] AS\r\n",
                "    (SELECT\r\n",
                "        [wait_type],\r\n",
                "        [wait_time_ms] / 1000.0 AS [WaitS],\r\n",
                "        ([wait_time_ms] - [signal_wait_time_ms]) / 1000.0 AS [ResourceS],\r\n",
                "        [signal_wait_time_ms] / 1000.0 AS [SignalS],\r\n",
                "        [waiting_tasks_count] AS [WaitCount],\r\n",
                "        100.0 * [wait_time_ms] / SUM ([wait_time_ms]) OVER() AS [Percentage],\r\n",
                "        ROW_NUMBER() OVER(ORDER BY [wait_time_ms] DESC) AS [RowNum]\r\n",
                "    FROM sys.dm_os_wait_stats\r\n",
                "    WHERE [wait_type] NOT IN (\r\n",
                "        -- These wait types are almost 100% never a problem and so they are\r\n",
                "        -- filtered out to avoid them skewing the results. Click on the URL\r\n",
                "        -- for more information.\r\n",
                "        N'BROKER_EVENTHANDLER', -- https://www.sqlskills.com/help/waits/BROKER_EVENTHANDLER\r\n",
                "        N'BROKER_RECEIVE_WAITFOR', -- https://www.sqlskills.com/help/waits/BROKER_RECEIVE_WAITFOR\r\n",
                "        N'BROKER_TASK_STOP', -- https://www.sqlskills.com/help/waits/BROKER_TASK_STOP\r\n",
                "        N'BROKER_TO_FLUSH', -- https://www.sqlskills.com/help/waits/BROKER_TO_FLUSH\r\n",
                "        N'BROKER_TRANSMITTER', -- https://www.sqlskills.com/help/waits/BROKER_TRANSMITTER\r\n",
                "        N'CHECKPOINT_QUEUE', -- https://www.sqlskills.com/help/waits/CHECKPOINT_QUEUE\r\n",
                "        N'CHKPT', -- https://www.sqlskills.com/help/waits/CHKPT\r\n",
                "        N'CLR_AUTO_EVENT', -- https://www.sqlskills.com/help/waits/CLR_AUTO_EVENT\r\n",
                "        N'CLR_MANUAL_EVENT', -- https://www.sqlskills.com/help/waits/CLR_MANUAL_EVENT\r\n",
                "        N'CLR_SEMAPHORE', -- https://www.sqlskills.com/help/waits/CLR_SEMAPHORE\r\n",
                "        N'CXCONSUMER', -- https://www.sqlskills.com/help/waits/CXCONSUMER\r\n",
                " \r\n",
                "        -- Maybe comment these four out if you have mirroring issues\r\n",
                "        N'DBMIRROR_DBM_EVENT', -- https://www.sqlskills.com/help/waits/DBMIRROR_DBM_EVENT\r\n",
                "        N'DBMIRROR_EVENTS_QUEUE', -- https://www.sqlskills.com/help/waits/DBMIRROR_EVENTS_QUEUE\r\n",
                "        N'DBMIRROR_WORKER_QUEUE', -- https://www.sqlskills.com/help/waits/DBMIRROR_WORKER_QUEUE\r\n",
                "        N'DBMIRRORING_CMD', -- https://www.sqlskills.com/help/waits/DBMIRRORING_CMD\r\n",
                " \r\n",
                "        N'DIRTY_PAGE_POLL', -- https://www.sqlskills.com/help/waits/DIRTY_PAGE_POLL\r\n",
                "        N'DISPATCHER_QUEUE_SEMAPHORE', -- https://www.sqlskills.com/help/waits/DISPATCHER_QUEUE_SEMAPHORE\r\n",
                "        N'EXECSYNC', -- https://www.sqlskills.com/help/waits/EXECSYNC\r\n",
                "        N'FSAGENT', -- https://www.sqlskills.com/help/waits/FSAGENT\r\n",
                "        N'FT_IFTS_SCHEDULER_IDLE_WAIT', -- https://www.sqlskills.com/help/waits/FT_IFTS_SCHEDULER_IDLE_WAIT\r\n",
                "        N'FT_IFTSHC_MUTEX', -- https://www.sqlskills.com/help/waits/FT_IFTSHC_MUTEX\r\n",
                " \r\n",
                "        -- Maybe comment these six out if you have AG issues\r\n",
                "        N'HADR_CLUSAPI_CALL', -- https://www.sqlskills.com/help/waits/HADR_CLUSAPI_CALL\r\n",
                "        N'HADR_FILESTREAM_IOMGR_IOCOMPLETION', -- https://www.sqlskills.com/help/waits/HADR_FILESTREAM_IOMGR_IOCOMPLETION\r\n",
                "        N'HADR_LOGCAPTURE_WAIT', -- https://www.sqlskills.com/help/waits/HADR_LOGCAPTURE_WAIT\r\n",
                "        N'HADR_NOTIFICATION_DEQUEUE', -- https://www.sqlskills.com/help/waits/HADR_NOTIFICATION_DEQUEUE\r\n",
                "        N'HADR_TIMER_TASK', -- https://www.sqlskills.com/help/waits/HADR_TIMER_TASK\r\n",
                "        N'HADR_WORK_QUEUE', -- https://www.sqlskills.com/help/waits/HADR_WORK_QUEUE\r\n",
                " \r\n",
                "        N'KSOURCE_WAKEUP', -- https://www.sqlskills.com/help/waits/KSOURCE_WAKEUP\r\n",
                "        N'LAZYWRITER_SLEEP', -- https://www.sqlskills.com/help/waits/LAZYWRITER_SLEEP\r\n",
                "        N'LOGMGR_QUEUE', -- https://www.sqlskills.com/help/waits/LOGMGR_QUEUE\r\n",
                "        N'MEMORY_ALLOCATION_EXT', -- https://www.sqlskills.com/help/waits/MEMORY_ALLOCATION_EXT\r\n",
                "        N'ONDEMAND_TASK_QUEUE', -- https://www.sqlskills.com/help/waits/ONDEMAND_TASK_QUEUE\r\n",
                "        N'PARALLEL_REDO_DRAIN_WORKER', -- https://www.sqlskills.com/help/waits/PARALLEL_REDO_DRAIN_WORKER\r\n",
                "        N'PARALLEL_REDO_LOG_CACHE', -- https://www.sqlskills.com/help/waits/PARALLEL_REDO_LOG_CACHE\r\n",
                "        N'PARALLEL_REDO_TRAN_LIST', -- https://www.sqlskills.com/help/waits/PARALLEL_REDO_TRAN_LIST\r\n",
                "        N'PARALLEL_REDO_WORKER_SYNC', -- https://www.sqlskills.com/help/waits/PARALLEL_REDO_WORKER_SYNC\r\n",
                "        N'PARALLEL_REDO_WORKER_WAIT_WORK', -- https://www.sqlskills.com/help/waits/PARALLEL_REDO_WORKER_WAIT_WORK\r\n",
                "        N'PREEMPTIVE_OS_FLUSHFILEBUFFERS', -- https://www.sqlskills.com/help/waits/PREEMPTIVE_OS_FLUSHFILEBUFFERS \r\n",
                "        N'PREEMPTIVE_XE_GETTARGETSTATE', -- https://www.sqlskills.com/help/waits/PREEMPTIVE_XE_GETTARGETSTATE\r\n",
                "        N'PWAIT_ALL_COMPONENTS_INITIALIZED', -- https://www.sqlskills.com/help/waits/PWAIT_ALL_COMPONENTS_INITIALIZED\r\n",
                "        N'PWAIT_DIRECTLOGCONSUMER_GETNEXT', -- https://www.sqlskills.com/help/waits/PWAIT_DIRECTLOGCONSUMER_GETNEXT\r\n",
                "        N'QDS_PERSIST_TASK_MAIN_LOOP_SLEEP', -- https://www.sqlskills.com/help/waits/QDS_PERSIST_TASK_MAIN_LOOP_SLEEP\r\n",
                "        N'QDS_ASYNC_QUEUE', -- https://www.sqlskills.com/help/waits/QDS_ASYNC_QUEUE\r\n",
                "        N'QDS_CLEANUP_STALE_QUERIES_TASK_MAIN_LOOP_SLEEP',\r\n",
                "            -- https://www.sqlskills.com/help/waits/QDS_CLEANUP_STALE_QUERIES_TASK_MAIN_LOOP_SLEEP\r\n",
                "        N'QDS_SHUTDOWN_QUEUE', -- https://www.sqlskills.com/help/waits/QDS_SHUTDOWN_QUEUE\r\n",
                "        N'REDO_THREAD_PENDING_WORK', -- https://www.sqlskills.com/help/waits/REDO_THREAD_PENDING_WORK\r\n",
                "        N'REQUEST_FOR_DEADLOCK_SEARCH', -- https://www.sqlskills.com/help/waits/REQUEST_FOR_DEADLOCK_SEARCH\r\n",
                "        N'RESOURCE_QUEUE', -- https://www.sqlskills.com/help/waits/RESOURCE_QUEUE\r\n",
                "        N'SERVER_IDLE_CHECK', -- https://www.sqlskills.com/help/waits/SERVER_IDLE_CHECK\r\n",
                "        N'SLEEP_BPOOL_FLUSH', -- https://www.sqlskills.com/help/waits/SLEEP_BPOOL_FLUSH\r\n",
                "        N'SLEEP_DBSTARTUP', -- https://www.sqlskills.com/help/waits/SLEEP_DBSTARTUP\r\n",
                "        N'SLEEP_DCOMSTARTUP', -- https://www.sqlskills.com/help/waits/SLEEP_DCOMSTARTUP\r\n",
                "        N'SLEEP_MASTERDBREADY', -- https://www.sqlskills.com/help/waits/SLEEP_MASTERDBREADY\r\n",
                "        N'SLEEP_MASTERMDREADY', -- https://www.sqlskills.com/help/waits/SLEEP_MASTERMDREADY\r\n",
                "        N'SLEEP_MASTERUPGRADED', -- https://www.sqlskills.com/help/waits/SLEEP_MASTERUPGRADED\r\n",
                "        N'SLEEP_MSDBSTARTUP', -- https://www.sqlskills.com/help/waits/SLEEP_MSDBSTARTUP\r\n",
                "        N'SLEEP_SYSTEMTASK', -- https://www.sqlskills.com/help/waits/SLEEP_SYSTEMTASK\r\n",
                "        N'SLEEP_TASK', -- https://www.sqlskills.com/help/waits/SLEEP_TASK\r\n",
                "        N'SLEEP_TEMPDBSTARTUP', -- https://www.sqlskills.com/help/waits/SLEEP_TEMPDBSTARTUP\r\n",
                "        N'SNI_HTTP_ACCEPT', -- https://www.sqlskills.com/help/waits/SNI_HTTP_ACCEPT\r\n",
                "        N'SOS_WORK_DISPATCHER', -- https://www.sqlskills.com/help/waits/SOS_WORK_DISPATCHER\r\n",
                "        N'SP_SERVER_DIAGNOSTICS_SLEEP', -- https://www.sqlskills.com/help/waits/SP_SERVER_DIAGNOSTICS_SLEEP\r\n",
                "        N'SQLTRACE_BUFFER_FLUSH', -- https://www.sqlskills.com/help/waits/SQLTRACE_BUFFER_FLUSH\r\n",
                "        N'SQLTRACE_INCREMENTAL_FLUSH_SLEEP', -- https://www.sqlskills.com/help/waits/SQLTRACE_INCREMENTAL_FLUSH_SLEEP\r\n",
                "        N'SQLTRACE_WAIT_ENTRIES', -- https://www.sqlskills.com/help/waits/SQLTRACE_WAIT_ENTRIES\r\n",
                "        N'VDI_CLIENT_OTHER', -- https://www.sqlskills.com/help/waits/VDI_CLIENT_OTHER\r\n",
                "        N'WAIT_FOR_RESULTS', -- https://www.sqlskills.com/help/waits/WAIT_FOR_RESULTS\r\n",
                "        N'WAITFOR', -- https://www.sqlskills.com/help/waits/WAITFOR\r\n",
                "        N'WAITFOR_TASKSHUTDOWN', -- https://www.sqlskills.com/help/waits/WAITFOR_TASKSHUTDOWN\r\n",
                "        N'WAIT_XTP_RECOVERY', -- https://www.sqlskills.com/help/waits/WAIT_XTP_RECOVERY\r\n",
                "        N'WAIT_XTP_HOST_WAIT', -- https://www.sqlskills.com/help/waits/WAIT_XTP_HOST_WAIT\r\n",
                "        N'WAIT_XTP_OFFLINE_CKPT_NEW_LOG', -- https://www.sqlskills.com/help/waits/WAIT_XTP_OFFLINE_CKPT_NEW_LOG\r\n",
                "        N'WAIT_XTP_CKPT_CLOSE', -- https://www.sqlskills.com/help/waits/WAIT_XTP_CKPT_CLOSE\r\n",
                "        N'XE_DISPATCHER_JOIN', -- https://www.sqlskills.com/help/waits/XE_DISPATCHER_JOIN\r\n",
                "        N'XE_DISPATCHER_WAIT', -- https://www.sqlskills.com/help/waits/XE_DISPATCHER_WAIT\r\n",
                "        N'XE_TIMER_EVENT' -- https://www.sqlskills.com/help/waits/XE_TIMER_EVENT\r\n",
                "        )\r\n",
                "    AND [waiting_tasks_count] > 0\r\n",
                "    )\r\n",
                "SELECT\r\n",
                "    MAX ([W1].[wait_type]) AS [WaitType],\r\n",
                "    CAST (MAX ([W1].[WaitS]) AS DECIMAL (16,2)) AS [Wait_S],\r\n",
                "    CAST (MAX ([W1].[ResourceS]) AS DECIMAL (16,2)) AS [Resource_S],\r\n",
                "    CAST (MAX ([W1].[SignalS]) AS DECIMAL (16,2)) AS [Signal_S],\r\n",
                "    MAX ([W1].[WaitCount]) AS [WaitCount],\r\n",
                "    CAST (MAX ([W1].[Percentage]) AS DECIMAL (5,2)) AS [Percentage],\r\n",
                "    CAST ((MAX ([W1].[WaitS]) / MAX ([W1].[WaitCount])) AS DECIMAL (16,4)) AS [AvgWait_S],\r\n",
                "    CAST ((MAX ([W1].[ResourceS]) / MAX ([W1].[WaitCount])) AS DECIMAL (16,4)) AS [AvgRes_S],\r\n",
                "    CAST ((MAX ([W1].[SignalS]) / MAX ([W1].[WaitCount])) AS DECIMAL (16,4)) AS [AvgSig_S],\r\n",
                "    CAST ('https://www.sqlskills.com/help/waits/' + MAX ([W1].[wait_type]) as XML) AS [Help/Info URL]\r\n",
                "FROM [Waits] AS [W1]\r\n",
                "INNER JOIN [Waits] AS [W2] ON [W2].[RowNum] <= [W1].[RowNum]\r\n",
                "GROUP BY [W1].[RowNum]\r\n",
                "HAVING SUM ([W2].[Percentage]) - MAX( [W1].[Percentage] ) < 95; -- percentage threshold"
            ],
            "metadata": {
                "azdata_cell_guid": "5832b06d-8410-4f7a-9c3e-f4fa4149bf53"
            },
            "outputs": [
{
    "output_type": "display_data",
    "data": {
        "text/html": "(4 rows affected)"
    },
    "metadata": {}
}, {
    "output_type": "display_data",
    "data": {
        "text/html": "Total execution time: 00:00:00.034"
    },
    "metadata": {}
}, {
    "output_type": "execute_result",
    "metadata": {},
    "execution_count": 59,
    "data": {
        "application/vnd.dataresource+json": {
            "schema": {
                "fields": [
                    {
                        "name": "WaitType"
                    },
                    {
                        "name": "Wait_S"
                    },
                    {
                        "name": "Resource_S"
                    },
                    {
                        "name": "Signal_S"
                    },
                    {
                        "name": "WaitCount"
                    },
                    {
                        "name": "Percentage"
                    },
                    {
                        "name": "AvgWait_S"
                    },
                    {
                        "name": "AvgRes_S"
                    },
                    {
                        "name": "AvgSig_S"
                    },
                    {
                        "name": "Help/Info URL"
                    }
                ]
            },
            "data": [
                {
                    "0": "WRITELOG",
                    "1": "50.05",
                    "2": "44.15",
                    "3": "5.89",
                    "4": "204984",
                    "5": "61.55",
                    "6": "0.0002",
                    "7": "0.0002",
                    "8": "0.0000",
                    "9": "https://www.sqlskills.com/help/waits/WRITELOG"
                },
                {
                    "0": "PAGEIOLATCH_SH",
                    "1": "11.07",
                    "2": "10.95",
                    "3": "0.12",
                    "4": "27920",
                    "5": "13.62",
                    "6": "0.0004",
                    "7": "0.0004",
                    "8": "0.0000",
                    "9": "https://www.sqlskills.com/help/waits/PAGEIOLATCH_SH"
                },
                {
                    "0": "CXPACKET",
                    "1": "9.79",
                    "2": "8.90",
                    "3": "0.90",
                    "4": "5599",
                    "5": "12.04",
                    "6": "0.0017",
                    "7": "0.0016",
                    "8": "0.0002",
                    "9": "https://www.sqlskills.com/help/waits/CXPACKET"
                },
                {
                    "0": "WAIT_ON_SYNC_STATISTICS_REFRESH",
                    "1": "8.19",
                    "2": "8.19",
                    "3": "0.00",
                    "4": "142",
                    "5": "10.07",
                    "6": "0.0577",
                    "7": "0.0577",
                    "8": "0.0000",
                    "9": "https://www.sqlskills.com/help/waits/WAIT_ON_SYNC_STATISTICS_REFRESH"
                }
            ]
        },
        "text/html": "<table><tr><th>WaitType</th><th>Wait_S</th><th>Resource_S</th><th>Signal_S</th><th>WaitCount</th><th>Percentage</th><th>AvgWait_S</th><th>AvgRes_S</th><th>AvgSig_S</th><th>Help/Info URL</th></tr><tr><td>WRITELOG</td><td>50.05</td><td>44.15</td><td>5.89</td><td>204984</td><td>61.55</td><td>0.0002</td><td>0.0002</td><td>0.0000</td><td>https://www.sqlskills.com/help/waits/WRITELOG</td></tr><tr><td>PAGEIOLATCH_SH</td><td>11.07</td><td>10.95</td><td>0.12</td><td>27920</td><td>13.62</td><td>0.0004</td><td>0.0004</td><td>0.0000</td><td>https://www.sqlskills.com/help/waits/PAGEIOLATCH_SH</td></tr><tr><td>CXPACKET</td><td>9.79</td><td>8.90</td><td>0.90</td><td>5599</td><td>12.04</td><td>0.0017</td><td>0.0016</td><td>0.0002</td><td>https://www.sqlskills.com/help/waits/CXPACKET</td></tr><tr><td>WAIT_ON_SYNC_STATISTICS_REFRESH</td><td>8.19</td><td>8.19</td><td>0.00</td><td>142</td><td>10.07</td><td>0.0577</td><td>0.0577</td><td>0.0000</td><td>https://www.sqlskills.com/help/waits/WAIT_ON_SYNC_STATISTICS_REFRESH</td></tr></table>"
    }
}
],
            "execution_count": 59
        },
        {
            "cell_type": "markdown",
            "source": [
                "**Clear Wait Stats** -- Wait 10 minutes (12:25)"
            ],
            "metadata": {
                "azdata_cell_guid": "a7792a36-9925-43eb-939d-6bb6bd13970c"
            }
        },
        {
            "cell_type": "code",
            "source": [
                "DBCC SQLPERF (N'sys.dm_os_wait_stats', CLEAR);"
            ],
            "metadata": {
                "azdata_cell_guid": "e15b6619-dda6-4edd-8b33-d8d916d553d8"
            },
            "outputs": [
{
    "output_type": "display_data",
    "data": {
        "text/html": "DBCC execution completed. If DBCC printed error messages, contact your system administrator."
    },
    "metadata": {}
}, {
    "output_type": "display_data",
    "data": {
        "text/html": "Total execution time: 00:00:00.001"
    },
    "metadata": {}
}
],
            "execution_count": 60
        },
        {
            "cell_type": "code",
            "source": [
                "WITH [Waits] AS\r\n",
                "    (SELECT\r\n",
                "        [wait_type],\r\n",
                "        [wait_time_ms] / 1000.0 AS [WaitS],\r\n",
                "        ([wait_time_ms] - [signal_wait_time_ms]) / 1000.0 AS [ResourceS],\r\n",
                "        [signal_wait_time_ms] / 1000.0 AS [SignalS],\r\n",
                "        [waiting_tasks_count] AS [WaitCount],\r\n",
                "        100.0 * [wait_time_ms] / SUM ([wait_time_ms]) OVER() AS [Percentage],\r\n",
                "        ROW_NUMBER() OVER(ORDER BY [wait_time_ms] DESC) AS [RowNum]\r\n",
                "    FROM sys.dm_os_wait_stats\r\n",
                "    WHERE [wait_type] NOT IN (\r\n",
                "        -- These wait types are almost 100% never a problem and so they are\r\n",
                "        -- filtered out to avoid them skewing the results. Click on the URL\r\n",
                "        -- for more information.\r\n",
                "        N'BROKER_EVENTHANDLER', -- https://www.sqlskills.com/help/waits/BROKER_EVENTHANDLER\r\n",
                "        N'BROKER_RECEIVE_WAITFOR', -- https://www.sqlskills.com/help/waits/BROKER_RECEIVE_WAITFOR\r\n",
                "        N'BROKER_TASK_STOP', -- https://www.sqlskills.com/help/waits/BROKER_TASK_STOP\r\n",
                "        N'BROKER_TO_FLUSH', -- https://www.sqlskills.com/help/waits/BROKER_TO_FLUSH\r\n",
                "        N'BROKER_TRANSMITTER', -- https://www.sqlskills.com/help/waits/BROKER_TRANSMITTER\r\n",
                "        N'CHECKPOINT_QUEUE', -- https://www.sqlskills.com/help/waits/CHECKPOINT_QUEUE\r\n",
                "        N'CHKPT', -- https://www.sqlskills.com/help/waits/CHKPT\r\n",
                "        N'CLR_AUTO_EVENT', -- https://www.sqlskills.com/help/waits/CLR_AUTO_EVENT\r\n",
                "        N'CLR_MANUAL_EVENT', -- https://www.sqlskills.com/help/waits/CLR_MANUAL_EVENT\r\n",
                "        N'CLR_SEMAPHORE', -- https://www.sqlskills.com/help/waits/CLR_SEMAPHORE\r\n",
                "        N'CXCONSUMER', -- https://www.sqlskills.com/help/waits/CXCONSUMER\r\n",
                " \r\n",
                "        -- Maybe comment these four out if you have mirroring issues\r\n",
                "        N'DBMIRROR_DBM_EVENT', -- https://www.sqlskills.com/help/waits/DBMIRROR_DBM_EVENT\r\n",
                "        N'DBMIRROR_EVENTS_QUEUE', -- https://www.sqlskills.com/help/waits/DBMIRROR_EVENTS_QUEUE\r\n",
                "        N'DBMIRROR_WORKER_QUEUE', -- https://www.sqlskills.com/help/waits/DBMIRROR_WORKER_QUEUE\r\n",
                "        N'DBMIRRORING_CMD', -- https://www.sqlskills.com/help/waits/DBMIRRORING_CMD\r\n",
                " \r\n",
                "        N'DIRTY_PAGE_POLL', -- https://www.sqlskills.com/help/waits/DIRTY_PAGE_POLL\r\n",
                "        N'DISPATCHER_QUEUE_SEMAPHORE', -- https://www.sqlskills.com/help/waits/DISPATCHER_QUEUE_SEMAPHORE\r\n",
                "        N'EXECSYNC', -- https://www.sqlskills.com/help/waits/EXECSYNC\r\n",
                "        N'FSAGENT', -- https://www.sqlskills.com/help/waits/FSAGENT\r\n",
                "        N'FT_IFTS_SCHEDULER_IDLE_WAIT', -- https://www.sqlskills.com/help/waits/FT_IFTS_SCHEDULER_IDLE_WAIT\r\n",
                "        N'FT_IFTSHC_MUTEX', -- https://www.sqlskills.com/help/waits/FT_IFTSHC_MUTEX\r\n",
                " \r\n",
                "        -- Maybe comment these six out if you have AG issues\r\n",
                "        N'HADR_CLUSAPI_CALL', -- https://www.sqlskills.com/help/waits/HADR_CLUSAPI_CALL\r\n",
                "        N'HADR_FILESTREAM_IOMGR_IOCOMPLETION', -- https://www.sqlskills.com/help/waits/HADR_FILESTREAM_IOMGR_IOCOMPLETION\r\n",
                "        N'HADR_LOGCAPTURE_WAIT', -- https://www.sqlskills.com/help/waits/HADR_LOGCAPTURE_WAIT\r\n",
                "        N'HADR_NOTIFICATION_DEQUEUE', -- https://www.sqlskills.com/help/waits/HADR_NOTIFICATION_DEQUEUE\r\n",
                "        N'HADR_TIMER_TASK', -- https://www.sqlskills.com/help/waits/HADR_TIMER_TASK\r\n",
                "        N'HADR_WORK_QUEUE', -- https://www.sqlskills.com/help/waits/HADR_WORK_QUEUE\r\n",
                " \r\n",
                "        N'KSOURCE_WAKEUP', -- https://www.sqlskills.com/help/waits/KSOURCE_WAKEUP\r\n",
                "        N'LAZYWRITER_SLEEP', -- https://www.sqlskills.com/help/waits/LAZYWRITER_SLEEP\r\n",
                "        N'LOGMGR_QUEUE', -- https://www.sqlskills.com/help/waits/LOGMGR_QUEUE\r\n",
                "        N'MEMORY_ALLOCATION_EXT', -- https://www.sqlskills.com/help/waits/MEMORY_ALLOCATION_EXT\r\n",
                "        N'ONDEMAND_TASK_QUEUE', -- https://www.sqlskills.com/help/waits/ONDEMAND_TASK_QUEUE\r\n",
                "        N'PARALLEL_REDO_DRAIN_WORKER', -- https://www.sqlskills.com/help/waits/PARALLEL_REDO_DRAIN_WORKER\r\n",
                "        N'PARALLEL_REDO_LOG_CACHE', -- https://www.sqlskills.com/help/waits/PARALLEL_REDO_LOG_CACHE\r\n",
                "        N'PARALLEL_REDO_TRAN_LIST', -- https://www.sqlskills.com/help/waits/PARALLEL_REDO_TRAN_LIST\r\n",
                "        N'PARALLEL_REDO_WORKER_SYNC', -- https://www.sqlskills.com/help/waits/PARALLEL_REDO_WORKER_SYNC\r\n",
                "        N'PARALLEL_REDO_WORKER_WAIT_WORK', -- https://www.sqlskills.com/help/waits/PARALLEL_REDO_WORKER_WAIT_WORK\r\n",
                "        N'PREEMPTIVE_OS_FLUSHFILEBUFFERS', -- https://www.sqlskills.com/help/waits/PREEMPTIVE_OS_FLUSHFILEBUFFERS \r\n",
                "        N'PREEMPTIVE_XE_GETTARGETSTATE', -- https://www.sqlskills.com/help/waits/PREEMPTIVE_XE_GETTARGETSTATE\r\n",
                "        N'PWAIT_ALL_COMPONENTS_INITIALIZED', -- https://www.sqlskills.com/help/waits/PWAIT_ALL_COMPONENTS_INITIALIZED\r\n",
                "        N'PWAIT_DIRECTLOGCONSUMER_GETNEXT', -- https://www.sqlskills.com/help/waits/PWAIT_DIRECTLOGCONSUMER_GETNEXT\r\n",
                "        N'QDS_PERSIST_TASK_MAIN_LOOP_SLEEP', -- https://www.sqlskills.com/help/waits/QDS_PERSIST_TASK_MAIN_LOOP_SLEEP\r\n",
                "        N'QDS_ASYNC_QUEUE', -- https://www.sqlskills.com/help/waits/QDS_ASYNC_QUEUE\r\n",
                "        N'QDS_CLEANUP_STALE_QUERIES_TASK_MAIN_LOOP_SLEEP',\r\n",
                "            -- https://www.sqlskills.com/help/waits/QDS_CLEANUP_STALE_QUERIES_TASK_MAIN_LOOP_SLEEP\r\n",
                "        N'QDS_SHUTDOWN_QUEUE', -- https://www.sqlskills.com/help/waits/QDS_SHUTDOWN_QUEUE\r\n",
                "        N'REDO_THREAD_PENDING_WORK', -- https://www.sqlskills.com/help/waits/REDO_THREAD_PENDING_WORK\r\n",
                "        N'REQUEST_FOR_DEADLOCK_SEARCH', -- https://www.sqlskills.com/help/waits/REQUEST_FOR_DEADLOCK_SEARCH\r\n",
                "        N'RESOURCE_QUEUE', -- https://www.sqlskills.com/help/waits/RESOURCE_QUEUE\r\n",
                "        N'SERVER_IDLE_CHECK', -- https://www.sqlskills.com/help/waits/SERVER_IDLE_CHECK\r\n",
                "        N'SLEEP_BPOOL_FLUSH', -- https://www.sqlskills.com/help/waits/SLEEP_BPOOL_FLUSH\r\n",
                "        N'SLEEP_DBSTARTUP', -- https://www.sqlskills.com/help/waits/SLEEP_DBSTARTUP\r\n",
                "        N'SLEEP_DCOMSTARTUP', -- https://www.sqlskills.com/help/waits/SLEEP_DCOMSTARTUP\r\n",
                "        N'SLEEP_MASTERDBREADY', -- https://www.sqlskills.com/help/waits/SLEEP_MASTERDBREADY\r\n",
                "        N'SLEEP_MASTERMDREADY', -- https://www.sqlskills.com/help/waits/SLEEP_MASTERMDREADY\r\n",
                "        N'SLEEP_MASTERUPGRADED', -- https://www.sqlskills.com/help/waits/SLEEP_MASTERUPGRADED\r\n",
                "        N'SLEEP_MSDBSTARTUP', -- https://www.sqlskills.com/help/waits/SLEEP_MSDBSTARTUP\r\n",
                "        N'SLEEP_SYSTEMTASK', -- https://www.sqlskills.com/help/waits/SLEEP_SYSTEMTASK\r\n",
                "        N'SLEEP_TASK', -- https://www.sqlskills.com/help/waits/SLEEP_TASK\r\n",
                "        N'SLEEP_TEMPDBSTARTUP', -- https://www.sqlskills.com/help/waits/SLEEP_TEMPDBSTARTUP\r\n",
                "        N'SNI_HTTP_ACCEPT', -- https://www.sqlskills.com/help/waits/SNI_HTTP_ACCEPT\r\n",
                "        N'SOS_WORK_DISPATCHER', -- https://www.sqlskills.com/help/waits/SOS_WORK_DISPATCHER\r\n",
                "        N'SP_SERVER_DIAGNOSTICS_SLEEP', -- https://www.sqlskills.com/help/waits/SP_SERVER_DIAGNOSTICS_SLEEP\r\n",
                "        N'SQLTRACE_BUFFER_FLUSH', -- https://www.sqlskills.com/help/waits/SQLTRACE_BUFFER_FLUSH\r\n",
                "        N'SQLTRACE_INCREMENTAL_FLUSH_SLEEP', -- https://www.sqlskills.com/help/waits/SQLTRACE_INCREMENTAL_FLUSH_SLEEP\r\n",
                "        N'SQLTRACE_WAIT_ENTRIES', -- https://www.sqlskills.com/help/waits/SQLTRACE_WAIT_ENTRIES\r\n",
                "        N'VDI_CLIENT_OTHER', -- https://www.sqlskills.com/help/waits/VDI_CLIENT_OTHER\r\n",
                "        N'WAIT_FOR_RESULTS', -- https://www.sqlskills.com/help/waits/WAIT_FOR_RESULTS\r\n",
                "        N'WAITFOR', -- https://www.sqlskills.com/help/waits/WAITFOR\r\n",
                "        N'WAITFOR_TASKSHUTDOWN', -- https://www.sqlskills.com/help/waits/WAITFOR_TASKSHUTDOWN\r\n",
                "        N'WAIT_XTP_RECOVERY', -- https://www.sqlskills.com/help/waits/WAIT_XTP_RECOVERY\r\n",
                "        N'WAIT_XTP_HOST_WAIT', -- https://www.sqlskills.com/help/waits/WAIT_XTP_HOST_WAIT\r\n",
                "        N'WAIT_XTP_OFFLINE_CKPT_NEW_LOG', -- https://www.sqlskills.com/help/waits/WAIT_XTP_OFFLINE_CKPT_NEW_LOG\r\n",
                "        N'WAIT_XTP_CKPT_CLOSE', -- https://www.sqlskills.com/help/waits/WAIT_XTP_CKPT_CLOSE\r\n",
                "        N'XE_DISPATCHER_JOIN', -- https://www.sqlskills.com/help/waits/XE_DISPATCHER_JOIN\r\n",
                "        N'XE_DISPATCHER_WAIT', -- https://www.sqlskills.com/help/waits/XE_DISPATCHER_WAIT\r\n",
                "        N'XE_TIMER_EVENT' -- https://www.sqlskills.com/help/waits/XE_TIMER_EVENT\r\n",
                "        )\r\n",
                "    AND [waiting_tasks_count] > 0\r\n",
                "    )\r\n",
                "SELECT\r\n",
                "    MAX ([W1].[wait_type]) AS [WaitType],\r\n",
                "    CAST (MAX ([W1].[WaitS]) AS DECIMAL (16,2)) AS [Wait_S],\r\n",
                "    CAST (MAX ([W1].[ResourceS]) AS DECIMAL (16,2)) AS [Resource_S],\r\n",
                "    CAST (MAX ([W1].[SignalS]) AS DECIMAL (16,2)) AS [Signal_S],\r\n",
                "    MAX ([W1].[WaitCount]) AS [WaitCount],\r\n",
                "    CAST (MAX ([W1].[Percentage]) AS DECIMAL (5,2)) AS [Percentage],\r\n",
                "    CAST ((MAX ([W1].[WaitS]) / MAX ([W1].[WaitCount])) AS DECIMAL (16,4)) AS [AvgWait_S],\r\n",
                "    CAST ((MAX ([W1].[ResourceS]) / MAX ([W1].[WaitCount])) AS DECIMAL (16,4)) AS [AvgRes_S],\r\n",
                "    CAST ((MAX ([W1].[SignalS]) / MAX ([W1].[WaitCount])) AS DECIMAL (16,4)) AS [AvgSig_S],\r\n",
                "    CAST ('https://www.sqlskills.com/help/waits/' + MAX ([W1].[wait_type]) as XML) AS [Help/Info URL]\r\n",
                "FROM [Waits] AS [W1]\r\n",
                "INNER JOIN [Waits] AS [W2] ON [W2].[RowNum] <= [W1].[RowNum]\r\n",
                "GROUP BY [W1].[RowNum]\r\n",
                "HAVING SUM ([W2].[Percentage]) - MAX( [W1].[Percentage] ) < 95; -- percentage threshold"
            ],
            "metadata": {
                "azdata_cell_guid": "66e2d2ba-0b7e-48d9-bde7-f30f7e0a1df4"
            },
            "outputs": [
{
    "output_type": "display_data",
    "data": {
        "text/html": "(2 rows affected)"
    },
    "metadata": {}
}, {
    "output_type": "display_data",
    "data": {
        "text/html": "Total execution time: 00:00:00.015"
    },
    "metadata": {}
}, {
    "output_type": "execute_result",
    "metadata": {},
    "execution_count": 75,
    "data": {
        "application/vnd.dataresource+json": {
            "schema": {
                "fields": [
                    {
                        "name": "WaitType"
                    },
                    {
                        "name": "Wait_S"
                    },
                    {
                        "name": "Resource_S"
                    },
                    {
                        "name": "Signal_S"
                    },
                    {
                        "name": "WaitCount"
                    },
                    {
                        "name": "Percentage"
                    },
                    {
                        "name": "AvgWait_S"
                    },
                    {
                        "name": "AvgRes_S"
                    },
                    {
                        "name": "AvgSig_S"
                    },
                    {
                        "name": "Help/Info URL"
                    }
                ]
            },
            "data": [
                {
                    "0": "LCK_M_X",
                    "1": "1435.60",
                    "2": "1430.06",
                    "3": "5.55",
                    "4": "114549",
                    "5": "86.03",
                    "6": "0.0125",
                    "7": "0.0125",
                    "8": "0.0000",
                    "9": "https://www.sqlskills.com/help/waits/LCK_M_X"
                },
                {
                    "0": "WRITELOG",
                    "1": "168.95",
                    "2": "160.21",
                    "3": "8.74",
                    "4": "236757",
                    "5": "10.13",
                    "6": "0.0007",
                    "7": "0.0007",
                    "8": "0.0000",
                    "9": "https://www.sqlskills.com/help/waits/WRITELOG"
                }
            ]
        },
        "text/html": "<table><tr><th>WaitType</th><th>Wait_S</th><th>Resource_S</th><th>Signal_S</th><th>WaitCount</th><th>Percentage</th><th>AvgWait_S</th><th>AvgRes_S</th><th>AvgSig_S</th><th>Help/Info URL</th></tr><tr><td>LCK_M_X</td><td>1435.60</td><td>1430.06</td><td>5.55</td><td>114549</td><td>86.03</td><td>0.0125</td><td>0.0125</td><td>0.0000</td><td>https://www.sqlskills.com/help/waits/LCK_M_X</td></tr><tr><td>WRITELOG</td><td>168.95</td><td>160.21</td><td>8.74</td><td>236757</td><td>10.13</td><td>0.0007</td><td>0.0007</td><td>0.0000</td><td>https://www.sqlskills.com/help/waits/WRITELOG</td></tr></table>"
    }
}
],
            "execution_count": 75
        },
        {
            "cell_type": "code",
            "source": [
                "SELECT * FROM sys.traces"
            ],
            "metadata": {
                "azdata_cell_guid": "0b768f17-be0e-430e-88d4-fa4475be87f2"
            },
            "outputs": [],
            "execution_count": 49
        }
    ]
}